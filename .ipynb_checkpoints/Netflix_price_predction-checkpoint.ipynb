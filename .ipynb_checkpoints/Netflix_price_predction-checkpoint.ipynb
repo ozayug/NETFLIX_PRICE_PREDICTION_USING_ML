{
 "cells": [
  {
   "cell_type": "markdown",
   "id": "4fc600b5-48a3-48a7-9467-95aef2b4e426",
   "metadata": {},
   "source": [
    "# <font color='black'>Project Title : ***Netflix Price Predction*** </font>"
   ]
  },
  {
   "cell_type": "markdown",
   "id": "76ebbedd-28e4-4f53-95d2-1054e5b6693e",
   "metadata": {},
   "source": [
    "# <font color='blue'> Description</font>"
   ]
  },
  {
   "cell_type": "markdown",
   "id": "a96690b4-a81a-4ae5-a1a9-20395c083b4b",
   "metadata": {},
   "source": [
    "\n",
    "We will use historical stock price data for Netflix to train machine learning models to predict future stock prices. The dataset includes columns such as Date, Open, High, Low, Close, Adjusted Close (Adj Close), and Volume. The 'Close' price will be our target variable, as it represents the final trading price for each day and is a key metric for investors aiming to maximize profit by buying low and selling high. The other columns ('Open', 'High', 'Low', 'Adj Close', 'Volume') serve as input features since they influence the 'Close' price and can improve the model's predictive accuracy.\n",
    "\n",
    "Why 'Close' Price?\n",
    "The 'Close' price is crucial because it reflects the stock's final value at the end of the trading day, providing insight into the stock’s daily performance. This price is affected by daily fluctuations captured in the 'Open', 'High', 'Low', and 'Adj Close' prices, as well as the trading volume. Therefore, predicting the 'Close' price helps investors decide the optimal times to buy or sell.\n",
    "\n",
    "By using these features, our model aims to accurately predict the future 'Close' price of Netflix, allowing for informed investment decisions.\n",
    "\n",
    "![Netflix image](image2.jpg)\n",
    "\n",
    "\n"
   ]
  },
  {
   "cell_type": "markdown",
   "id": "673693fc-e1f8-4eb8-8950-86f7febf51dd",
   "metadata": {},
   "source": [
    "## <font color ='Green'>1) Loading Libraries</font>"
   ]
  },
  {
   "cell_type": "code",
   "execution_count": 16,
   "id": "75675f82-60e8-4537-ad60-8be203201ec1",
   "metadata": {},
   "outputs": [],
   "source": [
    "import numpy as np\n",
    "import pandas as pd"
   ]
  },
  {
   "cell_type": "code",
   "execution_count": 22,
   "id": "99e7ba25-b1b9-4305-b1e6-3051b688354a",
   "metadata": {},
   "outputs": [],
   "source": [
    "df=pd.read_csv(\"netflix.csv\")"
   ]
  },
  {
   "cell_type": "code",
   "execution_count": 24,
   "id": "95ede989-0bcf-472b-9b94-94471867f3fa",
   "metadata": {},
   "outputs": [
    {
     "data": {
      "text/html": [
       "<div>\n",
       "<style scoped>\n",
       "    .dataframe tbody tr th:only-of-type {\n",
       "        vertical-align: middle;\n",
       "    }\n",
       "\n",
       "    .dataframe tbody tr th {\n",
       "        vertical-align: top;\n",
       "    }\n",
       "\n",
       "    .dataframe thead th {\n",
       "        text-align: right;\n",
       "    }\n",
       "</style>\n",
       "<table border=\"1\" class=\"dataframe\">\n",
       "  <thead>\n",
       "    <tr style=\"text-align: right;\">\n",
       "      <th></th>\n",
       "      <th>Date</th>\n",
       "      <th>Open</th>\n",
       "      <th>High</th>\n",
       "      <th>Low</th>\n",
       "      <th>Close</th>\n",
       "      <th>Adj Close</th>\n",
       "      <th>Volume</th>\n",
       "    </tr>\n",
       "  </thead>\n",
       "  <tbody>\n",
       "    <tr>\n",
       "      <th>0</th>\n",
       "      <td>2002-05-23</td>\n",
       "      <td>1.156429</td>\n",
       "      <td>1.242857</td>\n",
       "      <td>1.145714</td>\n",
       "      <td>1.196429</td>\n",
       "      <td>1.196429</td>\n",
       "      <td>104790000</td>\n",
       "    </tr>\n",
       "    <tr>\n",
       "      <th>1</th>\n",
       "      <td>2002-05-24</td>\n",
       "      <td>1.214286</td>\n",
       "      <td>1.225000</td>\n",
       "      <td>1.197143</td>\n",
       "      <td>1.210000</td>\n",
       "      <td>1.210000</td>\n",
       "      <td>11104800</td>\n",
       "    </tr>\n",
       "    <tr>\n",
       "      <th>2</th>\n",
       "      <td>2002-05-28</td>\n",
       "      <td>1.213571</td>\n",
       "      <td>1.232143</td>\n",
       "      <td>1.157143</td>\n",
       "      <td>1.157143</td>\n",
       "      <td>1.157143</td>\n",
       "      <td>6609400</td>\n",
       "    </tr>\n",
       "    <tr>\n",
       "      <th>3</th>\n",
       "      <td>2002-05-29</td>\n",
       "      <td>1.164286</td>\n",
       "      <td>1.164286</td>\n",
       "      <td>1.085714</td>\n",
       "      <td>1.103571</td>\n",
       "      <td>1.103571</td>\n",
       "      <td>6757800</td>\n",
       "    </tr>\n",
       "    <tr>\n",
       "      <th>4</th>\n",
       "      <td>2002-05-30</td>\n",
       "      <td>1.107857</td>\n",
       "      <td>1.107857</td>\n",
       "      <td>1.071429</td>\n",
       "      <td>1.071429</td>\n",
       "      <td>1.071429</td>\n",
       "      <td>10154200</td>\n",
       "    </tr>\n",
       "  </tbody>\n",
       "</table>\n",
       "</div>"
      ],
      "text/plain": [
       "         Date      Open      High       Low     Close  Adj Close     Volume\n",
       "0  2002-05-23  1.156429  1.242857  1.145714  1.196429   1.196429  104790000\n",
       "1  2002-05-24  1.214286  1.225000  1.197143  1.210000   1.210000   11104800\n",
       "2  2002-05-28  1.213571  1.232143  1.157143  1.157143   1.157143    6609400\n",
       "3  2002-05-29  1.164286  1.164286  1.085714  1.103571   1.103571    6757800\n",
       "4  2002-05-30  1.107857  1.107857  1.071429  1.071429   1.071429   10154200"
      ]
     },
     "execution_count": 24,
     "metadata": {},
     "output_type": "execute_result"
    }
   ],
   "source": [
    "df.head()"
   ]
  },
  {
   "cell_type": "code",
   "execution_count": 27,
   "id": "f54447ad-a2ce-4c09-bfd1-c8f0427d4f40",
   "metadata": {},
   "outputs": [
    {
     "data": {
      "text/plain": [
       "(5044, 7)"
      ]
     },
     "execution_count": 27,
     "metadata": {},
     "output_type": "execute_result"
    }
   ],
   "source": [
    "df.shape"
   ]
  },
  {
   "cell_type": "markdown",
   "id": "5c5a6eb2-5fb0-4e60-aafb-0b93f6c1b2ad",
   "metadata": {},
   "source": [
    "**Observation:**\n",
    "<font color='Red'>1) We have Total 5044 number of Rows and 7 Columns in the Dataset.</font>"
   ]
  },
  {
   "cell_type": "code",
   "execution_count": null,
   "id": "4b877ece-57d7-449b-bfcc-a819c008e40f",
   "metadata": {},
   "outputs": [],
   "source": []
  }
 ],
 "metadata": {
  "kernelspec": {
   "display_name": "Python 3 (ipykernel)",
   "language": "python",
   "name": "python3"
  },
  "language_info": {
   "codemirror_mode": {
    "name": "ipython",
    "version": 3
   },
   "file_extension": ".py",
   "mimetype": "text/x-python",
   "name": "python",
   "nbconvert_exporter": "python",
   "pygments_lexer": "ipython3",
   "version": "3.12.4"
  }
 },
 "nbformat": 4,
 "nbformat_minor": 5
}
